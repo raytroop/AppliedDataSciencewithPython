{
 "cells": [
  {
   "cell_type": "markdown",
   "metadata": {},
   "source": [
    "---\n",
    "\n",
    "_You are currently looking at **version 1.0** of this notebook. To download notebooks and datafiles, as well as get help on Jupyter notebooks in the Coursera platform, visit the [Jupyter Notebook FAQ](https://www.coursera.org/learn/python-machine-learning/resources/bANLa) course resource._\n",
    "\n",
    "---"
   ]
  },
  {
   "cell_type": "markdown",
   "metadata": {},
   "source": [
    "## Assignment 4 - Understanding and Predicting Property Maintenance Fines\n",
    "\n",
    "This assignment is based on a data challenge from the Michigan Data Science Team ([MDST](http://midas.umich.edu/mdst/)). \n",
    "\n",
    "The Michigan Data Science Team ([MDST](http://midas.umich.edu/mdst/)) and the Michigan Student Symposium for Interdisciplinary Statistical Sciences ([MSSISS](https://sites.lsa.umich.edu/mssiss/)) have partnered with the City of Detroit to help solve one of the most pressing problems facing Detroit - blight. [Blight violations](http://www.detroitmi.gov/How-Do-I/Report/Blight-Complaint-FAQs) are issued by the city to individuals who allow their properties to remain in a deteriorated condition. Every year, the city of Detroit issues millions of dollars in fines to residents and every year, many of these fines remain unpaid. Enforcing unpaid blight fines is a costly and tedious process, so the city wants to know: how can we increase blight ticket compliance?\n",
    "\n",
    "The first step in answering this question is understanding when and why a resident might fail to comply with a blight ticket. This is where predictive modeling comes in. For this assignment, your task is to predict whether a given blight ticket will be paid on time.\n",
    "\n",
    "All data for this assignment has been provided to us through the [Detroit Open Data Portal](https://data.detroitmi.gov/). **Only the data already included in your Coursera directory can be used for training the model for this assignment.** Nonetheless, we encourage you to look into data from other Detroit datasets to help inform feature creation and model selection. We recommend taking a look at the following related datasets:\n",
    "\n",
    "* [Building Permits](https://data.detroitmi.gov/Property-Parcels/Building-Permits/xw2a-a7tf)\n",
    "* [Trades Permits](https://data.detroitmi.gov/Property-Parcels/Trades-Permits/635b-dsgv)\n",
    "* [Improve Detroit: Submitted Issues](https://data.detroitmi.gov/Government/Improve-Detroit-Submitted-Issues/fwz3-w3yn)\n",
    "* [DPD: Citizen Complaints](https://data.detroitmi.gov/Public-Safety/DPD-Citizen-Complaints-2016/kahe-efs3)\n",
    "* [Parcel Map](https://data.detroitmi.gov/Property-Parcels/Parcel-Map/fxkw-udwf)\n",
    "\n",
    "___\n",
    "\n",
    "We provide you with two data files for use in training and validating your models: train.csv and test.csv. Each row in these two files corresponds to a single blight ticket, and includes information about when, why, and to whom each ticket was issued. The target variable is compliance, which is True if the ticket was paid early, on time, or within one month of the hearing data, False if the ticket was paid after the hearing date or not at all, and Null if the violator was found not responsible. Compliance, as well as a handful of other variables that will not be available at test-time, are only included in train.csv.\n",
    "\n",
    "Note: All tickets where the violators were found not responsible are not considered during evaluation. They are included in the training set as an additional source of data for visualization, and to enable unsupervised and semi-supervised approaches. However, they are not included in the test set.\n",
    "\n",
    "<br>\n",
    "\n",
    "**File descriptions** (Use only this data for training your model!)\n",
    "\n",
    "    train.csv - the training set (all tickets issued 2004-2011)\n",
    "    test.csv - the test set (all tickets issued 2012-2016)\n",
    "    addresses.csv & latlons.csv - mapping from ticket id to addresses, and from addresses to lat/lon coordinates. \n",
    "     Note: misspelled addresses may be incorrectly geolocated.\n",
    "\n",
    "<br>\n",
    "\n",
    "**Data fields**\n",
    "\n",
    "train.csv & test.csv\n",
    "\n",
    "    ticket_id - unique identifier for tickets\n",
    "    agency_name - Agency that issued the ticket\n",
    "    inspector_name - Name of inspector that issued the ticket\n",
    "    violator_name - Name of the person/organization that the ticket was issued to\n",
    "    violation_street_number, violation_street_name, violation_zip_code - Address where the violation occurred\n",
    "    mailing_address_str_number, mailing_address_str_name, city, state, zip_code, non_us_str_code, country - Mailing address of the violator\n",
    "    ticket_issued_date - Date and time the ticket was issued\n",
    "    hearing_date - Date and time the violator's hearing was scheduled\n",
    "    violation_code, violation_description - Type of violation\n",
    "    disposition - Judgment and judgement type\n",
    "    fine_amount - Violation fine amount, excluding fees\n",
    "    admin_fee - $20 fee assigned to responsible judgments\n",
    "state_fee - $10 fee assigned to responsible judgments\n",
    "    late_fee - 10% fee assigned to responsible judgments\n",
    "    discount_amount - discount applied, if any\n",
    "    clean_up_cost - DPW clean-up or graffiti removal cost\n",
    "    judgment_amount - Sum of all fines and fees\n",
    "    grafitti_status - Flag for graffiti violations\n",
    "    \n",
    "train.csv only\n",
    "\n",
    "    payment_amount - Amount paid, if any\n",
    "    payment_date - Date payment was made, if it was received\n",
    "    payment_status - Current payment status as of Feb 1 2017\n",
    "    balance_due - Fines and fees still owed\n",
    "    collection_status - Flag for payments in collections\n",
    "    compliance [target variable for prediction] \n",
    "     Null = Not responsible\n",
    "     0 = Responsible, non-compliant\n",
    "     1 = Responsible, compliant\n",
    "    compliance_detail - More information on why each ticket was marked compliant or non-compliant\n",
    "\n",
    "\n",
    "___\n",
    "\n",
    "## Evaluation\n",
    "\n",
    "Your predictions will be given as the probability that the corresponding blight ticket will be paid on time.\n",
    "\n",
    "The evaluation metric for this assignment is the Area Under the ROC Curve (AUC). \n",
    "\n",
    "Your grade will be based on the AUC score computed for your classifier. A model which with an AUROC of 0.7 passes this assignment, over 0.75 will recieve full points.\n",
    "___\n",
    "\n",
    "For this assignment, create a function that trains a model to predict blight ticket compliance in Detroit using `train.csv`. Using this model, return a series of length 61001 with the data being the probability that each corresponding ticket from `test.csv` will be paid, and the index being the ticket_id.\n",
    "\n",
    "Example:\n",
    "\n",
    "    ticket_id\n",
    "       284932    0.531842\n",
    "       285362    0.401958\n",
    "       285361    0.105928\n",
    "       285338    0.018572\n",
    "                 ...\n",
    "       376499    0.208567\n",
    "       376500    0.818759\n",
    "       369851    0.018528\n",
    "       Name: compliance, dtype: float32"
   ]
  },
  {
   "cell_type": "code",
   "execution_count": 1,
   "metadata": {},
   "outputs": [],
   "source": [
    "import pandas as pd\n",
    "import numpy as np"
   ]
  },
  {
   "cell_type": "code",
   "execution_count": 2,
   "metadata": {},
   "outputs": [
    {
     "name": "stderr",
     "output_type": "stream",
     "text": [
      "c:\\Miniconda3\\envs\\tf-gpu\\lib\\site-packages\\IPython\\core\\interactiveshell.py:2698: DtypeWarning: Columns (11,12,31) have mixed types. Specify dtype option on import or set low_memory=False.\n",
      "  interactivity=interactivity, compiler=compiler, result=result)\n"
     ]
    }
   ],
   "source": [
    "training = pd.read_csv('train.csv', encoding = 'ISO-8859-1')\n",
    "testing = pd.read_csv('test.csv')\n",
    "adr2latlons = pd.read_csv('latlons.csv')\n",
    "id2adr = pd.read_csv('addresses.csv')"
   ]
  },
  {
   "cell_type": "code",
   "execution_count": 3,
   "metadata": {},
   "outputs": [],
   "source": [
    "X_train = training[testing.columns]\n",
    "y_train = training['compliance']"
   ]
  },
  {
   "cell_type": "code",
   "execution_count": 4,
   "metadata": {},
   "outputs": [],
   "source": [
    "X_train = X_train[~y_train.isnull()]\n",
    "y_train = y_train[~y_train.isnull()]"
   ]
  },
  {
   "cell_type": "code",
   "execution_count": 5,
   "metadata": {},
   "outputs": [],
   "source": [
    "X_train = pd.merge(pd.merge(X_train, id2adr, on ='ticket_id', how='left'), \n",
    "                   adr2latlons, on='address', how='left').drop('address', axis =1)"
   ]
  },
  {
   "cell_type": "code",
   "execution_count": 6,
   "metadata": {},
   "outputs": [],
   "source": [
    "X_test = pd.merge(pd.merge(testing, id2adr, on ='ticket_id', how='left'), \n",
    "                   adr2latlons, on='address', how='left').drop('address', axis =1)"
   ]
  },
  {
   "cell_type": "code",
   "execution_count": 7,
   "metadata": {},
   "outputs": [],
   "source": [
    "X_train.fillna(method='pad', inplace=True)\n",
    "X_test.fillna(method='pad', inplace=True)"
   ]
  },
  {
   "cell_type": "code",
   "execution_count": 8,
   "metadata": {},
   "outputs": [],
   "source": [
    "X_train.drop('violation_zip_code', axis=1, inplace=True)\n",
    "X_test.drop('violation_zip_code', axis=1, inplace=True)"
   ]
  },
  {
   "cell_type": "code",
   "execution_count": 9,
   "metadata": {},
   "outputs": [],
   "source": [
    "X_train.drop('grafitti_status', axis=1, inplace=True)\n",
    "X_test.drop('grafitti_status', axis=1, inplace=True)"
   ]
  },
  {
   "cell_type": "code",
   "execution_count": 10,
   "metadata": {},
   "outputs": [],
   "source": [
    "X_train.drop('violation_street_number', axis=1, inplace=True)\n",
    "X_test.drop('violation_street_number', axis=1, inplace=True)"
   ]
  },
  {
   "cell_type": "code",
   "execution_count": 11,
   "metadata": {},
   "outputs": [],
   "source": [
    "X_train.drop('mailing_address_str_number', axis=1, inplace=True)\n",
    "X_test.drop('mailing_address_str_number', axis=1, inplace=True)"
   ]
  },
  {
   "cell_type": "code",
   "execution_count": 12,
   "metadata": {},
   "outputs": [],
   "source": [
    "X_train.drop('non_us_str_code', axis=1, inplace=True)\n",
    "X_test.drop('non_us_str_code', axis=1, inplace=True)"
   ]
  },
  {
   "cell_type": "code",
   "execution_count": 13,
   "metadata": {},
   "outputs": [],
   "source": [
    "X_train.drop('country', axis=1, inplace=True)\n",
    "X_test.drop('country', axis=1, inplace=True)"
   ]
  },
  {
   "cell_type": "code",
   "execution_count": 14,
   "metadata": {},
   "outputs": [],
   "source": [
    "X_train.drop('violation_description', axis=1, inplace=True)\n",
    "X_test.drop('violation_description', axis=1, inplace=True)"
   ]
  },
  {
   "cell_type": "code",
   "execution_count": 15,
   "metadata": {},
   "outputs": [],
   "source": [
    "X_train.drop('ticket_id', axis=1, inplace=True)\n",
    "X_test.drop('ticket_id', axis=1, inplace=True)"
   ]
  },
  {
   "cell_type": "code",
   "execution_count": 16,
   "metadata": {},
   "outputs": [],
   "source": [
    "X_train.drop('inspector_name', axis=1, inplace=True)\n",
    "X_test.drop('inspector_name', axis=1, inplace=True)"
   ]
  },
  {
   "cell_type": "code",
   "execution_count": 17,
   "metadata": {},
   "outputs": [],
   "source": [
    "X_train.drop('zip_code', axis=1, inplace=True)\n",
    "X_test.drop('zip_code', axis=1, inplace=True)"
   ]
  },
  {
   "cell_type": "code",
   "execution_count": 18,
   "metadata": {},
   "outputs": [],
   "source": [
    "X_train.drop('city', axis=1, inplace=True)\n",
    "X_test.drop('city', axis=1, inplace=True)\n",
    "X_train.drop('state', axis=1, inplace=True)\n",
    "X_test.drop('state', axis=1, inplace=True)"
   ]
  },
  {
   "cell_type": "code",
   "execution_count": 19,
   "metadata": {},
   "outputs": [],
   "source": [
    "X_train.drop('violation_street_name', axis=1, inplace=True)\n",
    "X_test.drop('violation_street_name', axis=1, inplace=True)\n",
    "X_train.drop('mailing_address_str_name', axis=1, inplace=True)\n",
    "X_test.drop('mailing_address_str_name', axis=1, inplace=True)"
   ]
  },
  {
   "cell_type": "code",
   "execution_count": 20,
   "metadata": {},
   "outputs": [],
   "source": [
    "X_train.drop('violator_name', axis=1, inplace=True)\n",
    "X_test.drop('violator_name', axis=1, inplace=True)"
   ]
  },
  {
   "cell_type": "markdown",
   "metadata": {},
   "source": [
    "<br>\n",
    "<br>\n",
    "** coursera autograder server fail to process datetime using pandas, maybe version problem**"
   ]
  },
  {
   "cell_type": "code",
   "execution_count": null,
   "metadata": {},
   "outputs": [],
   "source": [
    "#X_train['date_gap'] = X_train['hearing_date'].astype('datetime64[D]') - X_train['ticket_issued_date'].astype('datetime64[D]')\n",
    "#X_test['date_gap'] = X_test['hearing_date'].astype('datetime64[D]') - X_test['ticket_issued_date'].astype('datetime64[D]')\n",
    "X_train.drop('hearing_date', axis=1, inplace=True)\n",
    "X_test.drop('hearing_date', axis=1, inplace=True)\n",
    "X_train.drop('ticket_issued_date', axis=1, inplace=True)\n",
    "X_test.drop('ticket_issued_date', axis=1, inplace=True)"
   ]
  },
  {
   "cell_type": "code",
   "execution_count": null,
   "metadata": {},
   "outputs": [],
   "source": [
    "#X_train['date_gap'] = X_train['date_gap'].dt.total_seconds() / (24 * 60 * 60)\n",
    "#X_test['date_gap'] = X_test['date_gap'].dt.total_seconds() / (24 * 60 * 60)"
   ]
  },
  {
   "cell_type": "code",
   "execution_count": null,
   "metadata": {},
   "outputs": [],
   "source": [
    "X_train.drop(['fine_amount', 'admin_fee', 'state_fee', 'late_fee', 'clean_up_cost'], axis=1, inplace=True)\n",
    "X_test.drop(['fine_amount','admin_fee','state_fee','late_fee', 'clean_up_cost'], axis=1, inplace=True)"
   ]
  },
  {
   "cell_type": "code",
   "execution_count": null,
   "metadata": {},
   "outputs": [],
   "source": [
    "X_train['total_amount'] = X_train['judgment_amount'] - X_train['discount_amount']\n",
    "X_test['total_amount'] = X_test['judgment_amount'] - X_test['discount_amount']\n",
    "X_train.drop(['judgment_amount', 'discount_amount'], axis=1, inplace=True)\n",
    "X_test.drop(['judgment_amount', 'discount_amount'], axis=1, inplace=True)"
   ]
  },
  {
   "cell_type": "code",
   "execution_count": null,
   "metadata": {},
   "outputs": [],
   "source": [
    "agency_ix = (X_test.agency_name.values[:, None] == X_train.agency_name.unique()[None, :]).sum(axis=1).astype(bool)  == False\n",
    "violation_code_ix = (X_test.violation_code.values[:, None] == X_train.violation_code.unique()[None, :]).sum(axis=1).astype(bool)  == False\n",
    "disposition_ix = (X_test.disposition.values[:, None] == X_train.disposition.unique()[None, :]).sum(axis=1).astype(bool)  == False"
   ]
  },
  {
   "cell_type": "code",
   "execution_count": null,
   "metadata": {},
   "outputs": [],
   "source": [
    "X_test.loc[agency_ix, 'agency_name'] = 'unkown'\n",
    "X_test.loc[violation_code_ix, 'violation_code'] = 'unkown'\n",
    "X_test.loc[disposition_ix, 'disposition'] = 'unkown'"
   ]
  },
  {
   "cell_type": "code",
   "execution_count": null,
   "metadata": {},
   "outputs": [],
   "source": [
    "from sklearn import preprocessing\n",
    "le_agency = preprocessing.LabelEncoder().fit(X_train.agency_name.unique().tolist() + ['unkown'])\n",
    "le_violation_code = preprocessing.LabelEncoder().fit(X_train.violation_code.unique().tolist() + ['unkown'])\n",
    "le_disposition = preprocessing.LabelEncoder().fit(X_train.disposition.unique().tolist() + ['unkown'])"
   ]
  },
  {
   "cell_type": "code",
   "execution_count": null,
   "metadata": {},
   "outputs": [],
   "source": [
    "X_train['agency_name'] = le_agency.transform(X_train['agency_name'])\n",
    "X_train['violation_code'] = le_violation_code.transform(X_train['violation_code'])\n",
    "X_train['disposition'] = le_disposition.transform(X_train['disposition'])\n",
    "\n",
    "X_test['agency_name'] = le_agency.transform(X_test['agency_name'])\n",
    "X_test['violation_code'] = le_violation_code.transform(X_test['violation_code'])\n",
    "X_test['disposition'] = le_disposition.transform(X_test['disposition'])"
   ]
  },
  {
   "cell_type": "code",
   "execution_count": null,
   "metadata": {},
   "outputs": [],
   "source": [
    "enc_agency = preprocessing.OneHotEncoder().fit(np.arange(le_agency.classes_.size)[:, None])\n",
    "enc_violation_code = preprocessing.OneHotEncoder().fit(np.arange(le_violation_code.classes_.size)[:, None])\n",
    "enc_disposition = preprocessing.OneHotEncoder().fit(np.arange(le_disposition.classes_.size)[:, None])"
   ]
  },
  {
   "cell_type": "code",
   "execution_count": null,
   "metadata": {},
   "outputs": [],
   "source": [
    "X_train_agency = enc_agency.transform(X_train.agency_name[:, None]).toarray()\n",
    "X_train_violation_code = enc_violation_code.transform(X_train.violation_code[:, None]).toarray()\n",
    "X_train_disposition = enc_disposition.transform(X_train.disposition[:, None]).toarray()\n",
    "\n",
    "X_test_agency = enc_agency.transform(X_test.agency_name[:, None]).toarray()\n",
    "X_test_violation_code = enc_violation_code.transform(X_test.violation_code[:, None]).toarray()\n",
    "X_test_disposition = enc_disposition.transform(X_test.disposition[:, None]).toarray()"
   ]
  },
  {
   "cell_type": "code",
   "execution_count": null,
   "metadata": {},
   "outputs": [],
   "source": [
    "X_train = np.hstack([X_train.loc[:, X_train.columns[-4:]], X_train_agency, X_train_violation_code, X_train_disposition])\n",
    "X_test = np.hstack([X_test.loc[:, X_test.columns[-4:]], X_test_agency, X_test_violation_code, X_test_disposition])"
   ]
  },
  {
   "cell_type": "code",
   "execution_count": null,
   "metadata": {},
   "outputs": [],
   "source": [
    "from sklearn.ensemble import GradientBoostingClassifier\n",
    "from sklearn.model_selection import GridSearchCV\n",
    "from sklearn.metrics import roc_auc_score"
   ]
  },
  {
   "cell_type": "markdown",
   "metadata": {},
   "source": [
    "```python\n",
    "n_estimators\n",
    "grid_values = {'n_estimators': [50, 100, 200, 400, 800], 'max_depth':[3, 4, 5], 'learning_rate': [0.0001, 0.001, 0.01, 0.1, 0.2, 0.3]  }\n",
    "clf = GradientBoostingClassifier()\n",
    "grid_clf_auc = GridSearchCV(clf, cv=3, n_jobs=-1, param_grid = grid_values, scoring = 'roc_auc')\n",
    "grid_clf_auc.fit(X_train, y_train)\n",
    "y_decision_fn_scores_auc = grid_clf_auc.decision_function(X_test) \n",
    "\n",
    "#print('Test set AUC: ', roc_auc_score(y_test, y_decision_fn_scores_auc))\n",
    "print('Grid best parameter (max. AUC): ', grid_clf_auc.best_params_)\n",
    "print('Grid best score (AUC): ', grid_clf_auc.best_score_)\n",
    "```"
   ]
  },
  {
   "cell_type": "markdown",
   "metadata": {},
   "source": [
    "```python\n",
    "clf = GradientBoostingClassifier(n_estimators=200, learning_rate=0.01).fit(X_train, y_train)\n",
    "\n",
    "y_decision_fn = clf.decision_function(X_train) \n",
    "roc_auc_score(y_train, y_decision_fn)\n",
    "```"
   ]
  },
  {
   "cell_type": "code",
   "execution_count": null,
   "metadata": {},
   "outputs": [],
   "source": [
    "import pandas as pd\n",
    "import numpy as np\n",
    "\n",
    "def blight_model():\n",
    "    \n",
    "    # Your code here\n",
    "    clf = GradientBoostingClassifier(n_estimators=20, learning_rate=0.1).fit(X_train, y_train)\n",
    "    y_proba = clf.predict_proba(X_test) \n",
    "    result = pd.Series(y_proba[:,1], index=testing.ticket_id, name='compliance')\n",
    "    return result # Your answer here"
   ]
  },
  {
   "cell_type": "markdown",
   "metadata": {},
   "source": [
    "### check"
   ]
  },
  {
   "cell_type": "markdown",
   "metadata": {},
   "source": [
    "```python\n",
    "bm = blight_model()\n",
    "res = 'Data type Test: '\n",
    "res += ['Failed: type(bm) should Series\\n','Passed\\n'][type(bm)==pd.Series]\n",
    "res += 'Data shape Test: '\n",
    "res += ['Failed: len(bm) should be 61001\\n','Passed\\n'][len(bm)==61001]\n",
    "res += 'Data Values Test: '\n",
    "res += ['Failed: all values should be in [0.,1.]\\n','Passed\\n'][all((bm<=1.) & (bm>=0.))]\n",
    "res += 'Data Values type Test: '\n",
    "res += ['Failed: bm.dtype should be float\\n','Passed\\n'][str(bm.dtype).count('float')>0]\n",
    "res += 'Index type Test: '\n",
    "res += ['Failed: type(bm.index) should be Int64Index\\n','Passed\\n'][type(bm.index)==pd.Int64Index]\n",
    "res += 'Index values type Test: '\n",
    "res += ['Failed: type(bm.index[0]) should be int64\\n','Passed\\n'][str(type(bm.index[0])).count(\"int64\")>0]\n",
    "\n",
    "res += 'Output index shape test:'\n",
    "res += ['Failed, bm.index.shape should be (61001,)\\n','Passed\\n'][bm.index.shape==(61001,)]\n",
    "\n",
    "res += 'Output index test: '\n",
    "if bm.index.shape==(61001,):\n",
    "    res +=['Failed\\n','Passed\\n'][all(pd.read_csv('test.csv',usecols=[0],index_col=0).sort_index().index.values==bm.sort_index().index.values)]\n",
    "else:\n",
    "    res+='Failed'\n",
    "print(res)\n",
    "```"
   ]
  },
  {
   "cell_type": "code",
   "execution_count": null,
   "metadata": {},
   "outputs": [],
   "source": []
  }
 ],
 "metadata": {
  "coursera": {
   "course_slug": "python-machine-learning",
   "graded_item_id": "nNS8l",
   "launcher_item_id": "yWWk7",
   "part_id": "w8BSS"
  },
  "kernelspec": {
   "display_name": "Python 3",
   "language": "python",
   "name": "python3"
  },
  "language_info": {
   "codemirror_mode": {
    "name": "ipython",
    "version": 3
   },
   "file_extension": ".py",
   "mimetype": "text/x-python",
   "name": "python",
   "nbconvert_exporter": "python",
   "pygments_lexer": "ipython3",
   "version": "3.6.3"
  }
 },
 "nbformat": 4,
 "nbformat_minor": 2
}
